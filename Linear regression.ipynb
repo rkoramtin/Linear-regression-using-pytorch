{
 "cells": [
  {
   "cell_type": "code",
   "execution_count": 1,
   "metadata": {},
   "outputs": [],
   "source": [
    "import torch\n",
    "import torch.nn as nn\n",
    "import numpy as np\n",
    "import matplotlib.pyplot as plt"
   ]
  },
  {
   "cell_type": "code",
   "execution_count": 2,
   "metadata": {},
   "outputs": [
    {
     "data": {
      "text/plain": [
       "Text(0.5, 0, 'x')"
      ]
     },
     "execution_count": 2,
     "metadata": {},
     "output_type": "execute_result"
    },
    {
     "data": {
      "image/png": "[encoded data removed]",
      "text/plain": [
       "<Figure size 432x288 with 1 Axes>"
      ]
     },
     "metadata": {
      "needs_background": "light"
     },
     "output_type": "display_data"
    }
   ],
   "source": [
    "torch.manual_seed(2)\n",
    "#generate dataset\n",
    "X=torch.randn(100,1)*10\n",
    "y=X+3*torch.randn(100,1)\n",
    "plt.plot(X.numpy(), y.numpy(), 'o')\n",
    "plt.ylabel('y')\n",
    "plt.xlabel('x')"
   ]
  },
  {
   "cell_type": "code",
   "execution_count": 3,
   "metadata": {},
   "outputs": [],
   "source": [
    "#creating class LR which inheritate from nn.Mocule.we are making a custom class.\n",
    "class LR(nn.Module):\n",
    "    def __init__(self, input_size, output_size):\n",
    "        super().__init__()\n",
    "        self.linear = nn.Linear(input_size, output_size)\n",
    "    \n",
    "    def forward(self, x):\n",
    "        pred = self.linear(x)\n",
    "        return pred\n",
    "   "
   ]
  },
  {
   "cell_type": "code",
   "execution_count": 4,
   "metadata": {},
   "outputs": [
    {
     "name": "stdout",
     "output_type": "stream",
     "text": [
      "LR(\n",
      "  (linear): Linear(in_features=1, out_features=1, bias=True)\n",
      ")\n"
     ]
    }
   ],
   "source": [
    "\n",
    "model = LR(1, 1) #one input and one output\n",
    "print(model)"
   ]
  },
  {
   "cell_type": "code",
   "execution_count": 5,
   "metadata": {},
   "outputs": [],
   "source": [
    "[w, b] = model.parameters()\n",
    "def get_params():\n",
    "    return (w[0][0].item(), b[0].item())"
   ]
  },
  {
   "cell_type": "code",
   "execution_count": 6,
   "metadata": {},
   "outputs": [],
   "source": [
    "def plot_fit(title):\n",
    "    plt.title = title\n",
    "    w1, b1 = get_params()\n",
    "    x1 = np.array([-30, 30])\n",
    "    y1 = w1*x1 + b1\n",
    "    plt.plot(x1, y1, 'r')\n",
    "    plt.scatter(X, y)\n",
    "    plt.show()"
   ]
  },
  {
   "cell_type": "code",
   "execution_count": 7,
   "metadata": {},
   "outputs": [
    {
     "data": {
      "image/png": "[encoded data removed]",
      "text/plain": [
       "<Figure size 432x288 with 1 Axes>"
      ]
     },
     "metadata": {
      "needs_background": "light"
     },
     "output_type": "display_data"
    }
   ],
   "source": [
    "plot_fit('Initial Model')"
   ]
  },
  {
   "cell_type": "code",
   "execution_count": 8,
   "metadata": {},
   "outputs": [],
   "source": [
    "criterion = nn.MSELoss()\n",
    "optimizer = torch.optim.SGD(model.parameters(), lr = 0.01)"
   ]
  },
  {
   "cell_type": "code",
   "execution_count": 9,
   "metadata": {},
   "outputs": [
    {
     "name": "stdout",
     "output_type": "stream",
     "text": [
      "epoch: 0 loss: 57.68190383911133\n",
      "epoch: 1 loss: 54.539527893066406\n",
      "epoch: 2 loss: 51.6008186340332\n",
      "epoch: 3 loss: 48.852516174316406\n",
      "epoch: 4 loss: 46.282325744628906\n",
      "epoch: 5 loss: 43.878692626953125\n",
      "epoch: 6 loss: 41.630859375\n",
      "epoch: 7 loss: 39.5286750793457\n",
      "epoch: 8 loss: 37.5627326965332\n",
      "epoch: 9 loss: 35.72419357299805\n",
      "epoch: 10 loss: 34.004783630371094\n",
      "epoch: 11 loss: 32.396820068359375\n",
      "epoch: 12 loss: 30.893049240112305\n",
      "epoch: 13 loss: 29.48674774169922\n",
      "epoch: 14 loss: 28.171585083007812\n",
      "epoch: 15 loss: 26.941633224487305\n",
      "epoch: 16 loss: 25.79141616821289\n",
      "epoch: 17 loss: 24.715709686279297\n",
      "epoch: 18 loss: 23.709733963012695\n",
      "epoch: 19 loss: 22.768949508666992\n",
      "epoch: 20 loss: 21.889141082763672\n",
      "epoch: 21 loss: 21.066326141357422\n",
      "epoch: 22 loss: 20.29684829711914\n",
      "epoch: 23 loss: 19.577247619628906\n",
      "epoch: 24 loss: 18.90427017211914\n",
      "epoch: 25 loss: 18.274904251098633\n",
      "epoch: 26 loss: 17.686328887939453\n",
      "epoch: 27 loss: 17.135892868041992\n",
      "epoch: 28 loss: 16.621131896972656\n",
      "epoch: 29 loss: 16.139728546142578\n",
      "epoch: 30 loss: 15.689528465270996\n",
      "epoch: 31 loss: 15.268498420715332\n",
      "epoch: 32 loss: 14.87475299835205\n",
      "epoch: 33 loss: 14.506523132324219\n",
      "epoch: 34 loss: 14.162152290344238\n",
      "epoch: 35 loss: 13.840106964111328\n",
      "epoch: 36 loss: 13.538928985595703\n",
      "epoch: 37 loss: 13.257266998291016\n",
      "epoch: 38 loss: 12.993863105773926\n",
      "epoch: 39 loss: 12.747523307800293\n",
      "epoch: 40 loss: 12.517149925231934\n",
      "epoch: 41 loss: 12.301700592041016\n",
      "epoch: 42 loss: 12.10021686553955\n",
      "epoch: 43 loss: 11.911795616149902\n",
      "epoch: 44 loss: 11.735584259033203\n",
      "epoch: 45 loss: 11.570791244506836\n",
      "epoch: 46 loss: 11.416675567626953\n",
      "epoch: 47 loss: 11.272547721862793\n",
      "epoch: 48 loss: 11.137762069702148\n",
      "epoch: 49 loss: 11.011713981628418\n",
      "epoch: 50 loss: 10.893829345703125\n",
      "epoch: 51 loss: 10.783586502075195\n",
      "epoch: 52 loss: 10.680485725402832\n",
      "epoch: 53 loss: 10.58407211303711\n",
      "epoch: 54 loss: 10.493900299072266\n",
      "epoch: 55 loss: 10.409573554992676\n",
      "epoch: 56 loss: 10.330711364746094\n",
      "epoch: 57 loss: 10.25696086883545\n",
      "epoch: 58 loss: 10.187990188598633\n",
      "epoch: 59 loss: 10.123486518859863\n",
      "epoch: 60 loss: 10.063163757324219\n",
      "epoch: 61 loss: 10.006752014160156\n",
      "epoch: 62 loss: 9.953993797302246\n",
      "epoch: 63 loss: 9.904655456542969\n",
      "epoch: 64 loss: 9.858514785766602\n",
      "epoch: 65 loss: 9.815363883972168\n",
      "epoch: 66 loss: 9.775010108947754\n",
      "epoch: 67 loss: 9.73727035522461\n",
      "epoch: 68 loss: 9.701974868774414\n",
      "epoch: 69 loss: 9.668968200683594\n",
      "epoch: 70 loss: 9.638102531433105\n",
      "epoch: 71 loss: 9.609234809875488\n",
      "epoch: 72 loss: 9.582239151000977\n",
      "epoch: 73 loss: 9.556991577148438\n",
      "epoch: 74 loss: 9.533382415771484\n",
      "epoch: 75 loss: 9.511301040649414\n",
      "epoch: 76 loss: 9.49065113067627\n",
      "epoch: 77 loss: 9.47134017944336\n",
      "epoch: 78 loss: 9.453279495239258\n",
      "epoch: 79 loss: 9.43639087677002\n",
      "epoch: 80 loss: 9.420597076416016\n",
      "epoch: 81 loss: 9.405823707580566\n",
      "epoch: 82 loss: 9.392008781433105\n",
      "epoch: 83 loss: 9.379090309143066\n",
      "epoch: 84 loss: 9.367009162902832\n",
      "epoch: 85 loss: 9.355710983276367\n",
      "epoch: 86 loss: 9.345142364501953\n",
      "epoch: 87 loss: 9.335261344909668\n",
      "epoch: 88 loss: 9.326019287109375\n",
      "epoch: 89 loss: 9.317377090454102\n",
      "epoch: 90 loss: 9.309292793273926\n",
      "epoch: 91 loss: 9.301735877990723\n",
      "epoch: 92 loss: 9.29466724395752\n",
      "epoch: 93 loss: 9.288054466247559\n",
      "epoch: 94 loss: 9.281872749328613\n",
      "epoch: 95 loss: 9.276089668273926\n",
      "epoch: 96 loss: 9.270684242248535\n",
      "epoch: 97 loss: 9.265626907348633\n",
      "epoch: 98 loss: 9.260896682739258\n",
      "epoch: 99 loss: 9.256475448608398\n"
     ]
    }
   ],
   "source": [
    "epochs =100\n",
    "losses = []\n",
    "for i in range(epochs):\n",
    "    y_pred = model.forward(X)\n",
    "    loss = criterion(y_pred, y)\n",
    "    print(\"epoch:\", i, \"loss:\", loss.item())\n",
    "  \n",
    "    losses.append(loss)\n",
    "    optimizer.zero_grad()\n",
    "    loss.backward()\n",
    "    optimizer.step()"
   ]
  },
  {
   "cell_type": "code",
   "execution_count": 10,
   "metadata": {},
   "outputs": [
    {
     "data": {
      "text/plain": [
       "Text(0.5, 0, 'epoch')"
      ]
     },
     "execution_count": 10,
     "metadata": {},
     "output_type": "execute_result"
    },
    {
     "data": {
      "image/png": "[encoded data removed]",
      "text/plain": [
       "<Figure size 432x288 with 1 Axes>"
      ]
     },
     "metadata": {
      "needs_background": "light"
     },
     "output_type": "display_data"
    }
   ],
   "source": [
    "plt.plot(range(epochs), losses)\n",
    "plt.ylabel('Loss')\n",
    "plt.xlabel('epoch')"
   ]
  },
  {
   "cell_type": "code",
   "execution_count": 11,
   "metadata": {},
   "outputs": [
    {
     "data": {
      "image/png": "[encoded data removed]",
      "text/plain": [
       "<Figure size 432x288 with 1 Axes>"
      ]
     },
     "metadata": {
      "needs_background": "light"
     },
     "output_type": "display_data"
    }
   ],
   "source": [
    "plot_fit(\"Trained Model\")"
   ]
  },
  {
   "cell_type": "code",
   "execution_count": null,
   "metadata": {},
   "outputs": [],
   "source": [
    "\n",
    "\n"
   ]
  },
  {
   "cell_type": "code",
   "execution_count": null,
   "metadata": {},
   "outputs": [],
   "source": []
  },
  {
   "cell_type": "code",
   "execution_count": null,
   "metadata": {},
   "outputs": [],
   "source": []
  },
  {
   "cell_type": "code",
   "execution_count": null,
   "metadata": {},
   "outputs": [],
   "source": []
  }
 ],
 "metadata": {
  "kernelspec": {
   "display_name": "Python 3",
   "language": "python",
   "name": "python3"
  },
  "language_info": {
   "codemirror_mode": {
    "name": "ipython",
    "version": 3
   },
   "file_extension": ".py",
   "mimetype": "text/x-python",
   "name": "python",
   "nbconvert_exporter": "python",
   "pygments_lexer": "ipython3",
   "version": "3.7.4"
  }
 },
 "nbformat": 4,
 "nbformat_minor": 2
}
